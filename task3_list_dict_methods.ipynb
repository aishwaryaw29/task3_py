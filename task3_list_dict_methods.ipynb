{
 "cells": [
  {
   "cell_type": "markdown",
   "metadata": {},
   "source": [
    "### LIST METHODS"
   ]
  },
  {
   "cell_type": "code",
   "execution_count": 54,
   "metadata": {},
   "outputs": [],
   "source": [
    "l1 = [89, 23, 14, 90, 56, 11, 2, 3, 99, 7, 31, 66]"
   ]
  },
  {
   "cell_type": "markdown",
   "metadata": {},
   "source": [
    "#### 1) copy()"
   ]
  },
  {
   "cell_type": "code",
   "execution_count": 55,
   "metadata": {},
   "outputs": [
    {
     "name": "stdout",
     "output_type": "stream",
     "text": [
      "copied list = [89, 23, 14, 90, 56, 11, 2, 3, 99, 7, 31, 66]\n"
     ]
    }
   ],
   "source": [
    "print(f'copied list = {l1.copy()}')"
   ]
  },
  {
   "cell_type": "markdown",
   "metadata": {},
   "source": [
    "#### 2) count()"
   ]
  },
  {
   "cell_type": "code",
   "execution_count": 56,
   "metadata": {},
   "outputs": [
    {
     "name": "stdout",
     "output_type": "stream",
     "text": [
      "count of 14 = 1\n"
     ]
    }
   ],
   "source": [
    "print (f'count of 14 = {l1.count(14)}')"
   ]
  },
  {
   "cell_type": "markdown",
   "metadata": {},
   "source": [
    "#### 3) extend()"
   ]
  },
  {
   "cell_type": "code",
   "execution_count": 57,
   "metadata": {},
   "outputs": [
    {
     "name": "stdout",
     "output_type": "stream",
     "text": [
      "after extending l1 = [89, 23, 14, 90, 56, 11, 2, 3, 99, 7, 31, 66, -1, 0]\n"
     ]
    }
   ],
   "source": [
    "num = [-1, 0]\n",
    "l1.extend(num)\n",
    "print(f'after extending l1 = {l1}')"
   ]
  },
  {
   "cell_type": "markdown",
   "metadata": {},
   "source": [
    "#### 4) index()"
   ]
  },
  {
   "cell_type": "code",
   "execution_count": 58,
   "metadata": {},
   "outputs": [
    {
     "name": "stdout",
     "output_type": "stream",
     "text": [
      "index of 90 = 3\n"
     ]
    }
   ],
   "source": [
    "print(f'index of 90 = {l1.index(90)}')"
   ]
  },
  {
   "cell_type": "markdown",
   "metadata": {},
   "source": [
    "#### 5) pop()"
   ]
  },
  {
   "cell_type": "code",
   "execution_count": 59,
   "metadata": {},
   "outputs": [
    {
     "name": "stdout",
     "output_type": "stream",
     "text": [
      "after 5th index value removed = 11\n"
     ]
    }
   ],
   "source": [
    "print(f'after 5th index value removed = {l1.pop(5)}')"
   ]
  },
  {
   "cell_type": "markdown",
   "metadata": {},
   "source": [
    "#### 6) clear()"
   ]
  },
  {
   "cell_type": "code",
   "execution_count": 60,
   "metadata": {},
   "outputs": [
    {
     "name": "stdout",
     "output_type": "stream",
     "text": [
      "after removing all values = None\n"
     ]
    }
   ],
   "source": [
    "print(f'after removing all values = {l1.clear()}')"
   ]
  },
  {
   "cell_type": "markdown",
   "metadata": {},
   "source": [
    "### DICTIONARY METHODS"
   ]
  },
  {
   "cell_type": "code",
   "execution_count": 84,
   "metadata": {},
   "outputs": [],
   "source": [
    "d1 = {\n",
    "    \"name\" : \"Priti\",\n",
    "    \"age\" : 22,\n",
    "    \"city\" : \"Nagpur\",\n",
    "    \"scores\" : [75, 90, 85]\n",
    "}"
   ]
  },
  {
   "cell_type": "markdown",
   "metadata": {},
   "source": [
    "#### 1) copy()"
   ]
  },
  {
   "cell_type": "code",
   "execution_count": 85,
   "metadata": {},
   "outputs": [
    {
     "name": "stdout",
     "output_type": "stream",
     "text": [
      "copied dict = {'name': 'Priti', 'age': 22, 'city': 'Nagpur', 'scores': [75, 90, 85]}\n"
     ]
    }
   ],
   "source": [
    "print(f'copied dict = {d1.copy()}')"
   ]
  },
  {
   "cell_type": "markdown",
   "metadata": {},
   "source": [
    "#### 2) fromkeys()"
   ]
  },
  {
   "cell_type": "code",
   "execution_count": 86,
   "metadata": {},
   "outputs": [
    {
     "name": "stdout",
     "output_type": "stream",
     "text": [
      "age key = {'age': 22}\n"
     ]
    }
   ],
   "source": [
    "keys = ['age']\n",
    "print(f'age key = {dict.fromkeys(keys, d1['age'])}')"
   ]
  },
  {
   "cell_type": "markdown",
   "metadata": {},
   "source": [
    "#### 3) items()"
   ]
  },
  {
   "cell_type": "code",
   "execution_count": 87,
   "metadata": {},
   "outputs": [
    {
     "name": "stdout",
     "output_type": "stream",
     "text": [
      "dict list = dict_items([('name', 'Priti'), ('age', 22), ('city', 'Nagpur'), ('scores', [75, 90, 85])])\n"
     ]
    }
   ],
   "source": [
    "print(f'dict list = {d1.items()}')"
   ]
  },
  {
   "cell_type": "markdown",
   "metadata": {},
   "source": [
    "#### 4) setdefault()"
   ]
  },
  {
   "cell_type": "code",
   "execution_count": 88,
   "metadata": {},
   "outputs": [
    {
     "name": "stdout",
     "output_type": "stream",
     "text": [
      "dict after setdefault  = female\n"
     ]
    },
    {
     "data": {
      "text/plain": [
       "{'name': 'Priti',\n",
       " 'age': 22,\n",
       " 'city': 'Nagpur',\n",
       " 'scores': [75, 90, 85],\n",
       " 'gender': 'female'}"
      ]
     },
     "execution_count": 88,
     "metadata": {},
     "output_type": "execute_result"
    }
   ],
   "source": [
    "print(f'dict after setdefault  = {d1.setdefault(\"gender\",\"female\")}')\n",
    "d1"
   ]
  },
  {
   "cell_type": "markdown",
   "metadata": {},
   "source": [
    "#### 5) pop()"
   ]
  },
  {
   "cell_type": "code",
   "execution_count": 89,
   "metadata": {},
   "outputs": [
    {
     "name": "stdout",
     "output_type": "stream",
     "text": [
      "after city removed = {'name': 'Priti', 'age': 22, 'scores': [75, 90, 85], 'gender': 'female'}\n"
     ]
    }
   ],
   "source": [
    "d1.pop(\"city\")\n",
    "print(f'after city removed = {d1}')"
   ]
  },
  {
   "cell_type": "markdown",
   "metadata": {},
   "source": [
    "#### 6) popitem()"
   ]
  },
  {
   "cell_type": "code",
   "execution_count": 90,
   "metadata": {},
   "outputs": [
    {
     "name": "stdout",
     "output_type": "stream",
     "text": [
      "after last key removed = {'name': 'Priti', 'age': 22, 'scores': [75, 90, 85]}\n"
     ]
    }
   ],
   "source": [
    "d1.popitem()\n",
    "print(f'after last key removed = {d1}')"
   ]
  },
  {
   "cell_type": "markdown",
   "metadata": {},
   "source": [
    "#### 7) update()"
   ]
  },
  {
   "cell_type": "code",
   "execution_count": 93,
   "metadata": {},
   "outputs": [
    {
     "name": "stdout",
     "output_type": "stream",
     "text": [
      "after adding mob no = {'name': 'Priti', 'age': 22, 'scores': [75, 90, 85], 'mob no': 6423789}\n"
     ]
    }
   ],
   "source": [
    "d1.update({\"mob no\" : 6423789})\n",
    "print(f'after adding mob no = {d1}')"
   ]
  },
  {
   "cell_type": "markdown",
   "metadata": {},
   "source": [
    "#### 8) values()"
   ]
  },
  {
   "cell_type": "code",
   "execution_count": 94,
   "metadata": {},
   "outputs": [
    {
     "name": "stdout",
     "output_type": "stream",
     "text": [
      "values of d1 = dict_values(['Priti', 22, [75, 90, 85], 6423789])\n"
     ]
    }
   ],
   "source": [
    "print(f'values of d1 = {d1.values()}')"
   ]
  },
  {
   "cell_type": "markdown",
   "metadata": {},
   "source": [
    "#### 9) clear()"
   ]
  },
  {
   "cell_type": "code",
   "execution_count": 95,
   "metadata": {},
   "outputs": [
    {
     "name": "stdout",
     "output_type": "stream",
     "text": [
      "after removing all elements = None\n"
     ]
    }
   ],
   "source": [
    "print(f'after removing all elements = {d1.clear()}')"
   ]
  },
  {
   "cell_type": "code",
   "execution_count": null,
   "metadata": {},
   "outputs": [],
   "source": []
  }
 ],
 "metadata": {
  "kernelspec": {
   "display_name": "base",
   "language": "python",
   "name": "python3"
  },
  "language_info": {
   "codemirror_mode": {
    "name": "ipython",
    "version": 3
   },
   "file_extension": ".py",
   "mimetype": "text/x-python",
   "name": "python",
   "nbconvert_exporter": "python",
   "pygments_lexer": "ipython3",
   "version": "3.12.4"
  }
 },
 "nbformat": 4,
 "nbformat_minor": 2
}
